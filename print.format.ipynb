{
 "cells": [
  {
   "cell_type": "code",
   "execution_count": 3,
   "metadata": {},
   "outputs": [
    {
     "name": "stdout",
     "output_type": "stream",
     "text": [
      "0123456789"
     ]
    }
   ],
   "source": [
    "for i in range(10):\n",
    "    print(i, end='')"
   ]
  },
  {
   "cell_type": "code",
   "execution_count": 27,
   "metadata": {
    "scrolled": true
   },
   "outputs": [
    {
     "name": "stdout",
     "output_type": "stream",
     "text": [
      "1:\t|    wangyu,\n",
      "2:\t|1.140\n",
      "3:\t| 1.14      \n",
      "4:\t|wangyu    ,1.1415926      \n",
      "5:\t|User ID: root Last seen: 5 Mar 2008 07:20\n"
     ]
    }
   ],
   "source": [
    "print ('1:\\t|{0:>10},'.format('wangyu'))\n",
    "print ('2:\\t|{0:^4.3f}'.format(1.14))\n",
    "print ('3:\\t|',format(1.1415926,'<10.2f'))\n",
    "print ('4:\\t|{0:<10},{1:<15}'.format('wangyu',1.1415926))\n",
    "print ('5:\\t|User ID: {uid} Last seen: {last_login}'.format(uid='root',last_login = '5 Mar 2008 07:20') )"
   ]
  },
  {
   "cell_type": "code",
   "execution_count": 10,
   "metadata": {
    "scrolled": true
   },
   "outputs": [
    {
     "name": "stdout",
     "output_type": "stream",
     "text": [
      "6:\t|11\n",
      "7:\t|\u0003\n",
      "8:\t|3\n",
      "9:\t|3\n",
      "10:\t|3\n",
      "11:\t|3.750000e+00\n",
      "12:\t|3.75\n",
      "13:\t|3.75\n",
      "14:\t|3\n",
      "15:\t|375.00%\n"
     ]
    }
   ],
   "source": [
    "print ('6:\\t|{0:b}'.format(3))\n",
    "print ('7:\\t|{0:c}'.format(3))\n",
    "print ('8:\\t|{0:d}'.format(3))\n",
    "print ('9:\\t|{0:o}'.format(3))\n",
    "print ('10:\\t|{0:x}'.format(3))\n",
    "print ('11:\\t|{0:e}'.format(3.75))\n",
    "print ('12:\\t|{0:g}'.format(3.75))\n",
    "print ('13:\\t|{0:n}'.format(3.75))#浮点数\n",
    "print ('14:\\t|{0:n}'.format(3))  #整数\n",
    "print ('15:\\t|{0:.2%}'.format(3.75))"
   ]
  },
  {
   "cell_type": "code",
   "execution_count": 29,
   "metadata": {},
   "outputs": [
    {
     "name": "stdout",
     "output_type": "stream",
     "text": [
      "a:33\n",
      "b:2\n",
      "16:\t|                             1.14\n",
      "17:\t|2\n",
      "18:\t|<class 'int'>\n",
      "19:\t|* 0.33333*\n"
     ]
    }
   ],
   "source": [
    "a = int(input('a:'))\n",
    "b = int(input('b:'))\n",
    "print ('16:\\t|%*.*f' % (a, b, 1.1415926))\n",
    "print ('17:\\t|{array[2]}'.format(array=range(10)))\n",
    "print ('18:\\t|{attr.__class__}'.format(attr=0))\n",
    "print ('19:\\t|{digit:*^ 10.5f}'.format(digit=1.0/3))"
   ]
  },
  {
   "cell_type": "code",
   "execution_count": null,
   "metadata": {},
   "outputs": [],
   "source": [
    "'''\n",
    " 4 可以指定所需长度的字符串的对齐方式:\n",
    " 5 < （默认）左对齐\n",
    " 6 > 右对齐\n",
    " 7 ^ 中间对齐\n",
    " 8 = （只用于数字）在小数点后进行补齐\n",
    " 9 '''\n",
    "16 '''格式化指示符可以包含一个展示类型来控制格式。\n",
    "17 例如，浮点数可以被格式化为一般格式或用幂来表示。\n",
    "18 'b' - 二进制。将数字以2为基数进行输出。\n",
    "19 'c' - 字符。在打印之前将整数转换成对应的Unicode字符串。\n",
    "20 'd' - 十进制整数。将数字以10为基数进行输出。\n",
    "21 'o' - 八进制。将数字以8为基数进行输出。\n",
    "22 'x' - 十六进制。将数字以16为基数进行输出，9以上的位数用小写字母。\n",
    "23 'e' - 幂符号。用科学计数法打印数字。用'e'表示幂。\n",
    "24 'g' - 一般格式。将数值以fixed-point格式输出。当数值特别大的时候，用幂形式打印。\n",
    "25 'n' - 数字。当值为整数时和'd'相同，值为浮点数时和'g'相同。不同的是它会根据区域设置插入数字分隔符。\n",
    "26 '%' - 百分数。将数值乘以100然后以fixed-point('f')格式打印，值后面会有一个百分号。\n",
    "27 '''\n",
    "\n",
    "39 \n",
    "40 #输入形式的控制format\n",
    "\n",
    "48 \n",
    "49 '''\n",
    "50 类和类型可以定义一个__format__()方法来控制怎样格式化自己。\n",
    "51 它会接受一个格式化指示符作为参数：\n",
    "52 '''\n",
    "53 def __format__(self, format_spec):\n",
    "54     if isinstance(format_spec, unicode):\n",
    "55         return unicode(str(self))\n",
    "56     else:\n",
    "57         return str(self)"
   ]
  },
  {
   "cell_type": "code",
   "execution_count": 1,
   "metadata": {},
   "outputs": [],
   "source": [
    "import math"
   ]
  },
  {
   "cell_type": "code",
   "execution_count": 2,
   "metadata": {},
   "outputs": [
    {
     "name": "stdout",
     "output_type": "stream",
     "text": [
      "The value of PI is 3.141592653589793.\n"
     ]
    }
   ],
   "source": [
    "print('The value of PI is {}.'.format(math.pi))"
   ]
  },
  {
   "cell_type": "code",
   "execution_count": 3,
   "metadata": {},
   "outputs": [
    {
     "name": "stdout",
     "output_type": "stream",
     "text": [
      "The value of PI is 3.141592653589793.\n"
     ]
    }
   ],
   "source": [
    "print('The value of PI is {!r}.'.format(math.pi))"
   ]
  },
  {
   "cell_type": "code",
   "execution_count": 4,
   "metadata": {},
   "outputs": [
    {
     "name": "stdout",
     "output_type": "stream",
     "text": [
      "The value of PI is 3.142.\n"
     ]
    }
   ],
   "source": [
    "print('The value of PI is {0:.3f}.'.format(math.pi))"
   ]
  },
  {
   "cell_type": "code",
   "execution_count": 6,
   "metadata": {},
   "outputs": [
    {
     "name": "stdout",
     "output_type": "stream",
     "text": [
      "$$$$$$$$$$$$$$$$$$$$$$$$$$$$$$$$$$$$$$$$\n"
     ]
    }
   ],
   "source": [
    "print('$'*40)"
   ]
  },
  {
   "cell_type": "code",
   "execution_count": 8,
   "metadata": {},
   "outputs": [
    {
     "name": "stdout",
     "output_type": "stream",
     "text": [
      "Hongten,I'm Hello,my E-mail is hongtenzone@foxmail.com\n"
     ]
    }
   ],
   "source": [
    "print('{1},I\\'m {0},my E-mail is {2}'.format('Hello','Hongten','hongtenzone@foxmail.com'))"
   ]
  },
  {
   "cell_type": "code",
   "execution_count": 10,
   "metadata": {},
   "outputs": [
    {
     "name": "stdout",
     "output_type": "stream",
     "text": [
      "Hi,Tom,How old are you?\n"
     ]
    }
   ],
   "source": [
    "print('Hi,{name},{message}'.format(name = 'Tom',message = 'How old are you?'))"
   ]
  },
  {
   "cell_type": "code",
   "execution_count": 11,
   "metadata": {},
   "outputs": [
    {
     "name": "stdout",
     "output_type": "stream",
     "text": [
      "Hello,I'm Hongten,This is a test message!\n"
     ]
    }
   ],
   "source": [
    "print('{0},I\\'m {1},{message}'.format('Hello','Hongten',message = 'This is a test message!'))"
   ]
  },
  {
   "cell_type": "code",
   "execution_count": 12,
   "metadata": {},
   "outputs": [],
   "source": [
    "table = {'Sjoerd': 4127, 'Jack': 4098, 'Dcab': 7678}"
   ]
  },
  {
   "cell_type": "code",
   "execution_count": 13,
   "metadata": {},
   "outputs": [
    {
     "name": "stdout",
     "output_type": "stream",
     "text": [
      "Sjoerd     ==>       4127\n",
      "Jack       ==>       4098\n",
      "Dcab       ==>       7678\n"
     ]
    }
   ],
   "source": [
    "for name, phone in table.items():\n",
    "    print('{0:10} ==> {1:10d}'.format(name, phone))\n",
    "    "
   ]
  },
  {
   "cell_type": "code",
   "execution_count": 14,
   "metadata": {},
   "outputs": [],
   "source": [
    "table = {'Sjoerd': 4127, 'Jack': 4098, 'Dcab': 8637678}\n"
   ]
  },
  {
   "cell_type": "code",
   "execution_count": 15,
   "metadata": {},
   "outputs": [
    {
     "name": "stdout",
     "output_type": "stream",
     "text": [
      "Jack: 4098; Sjoerd: 4127; Dcab: 8637678\n"
     ]
    }
   ],
   "source": [
    "print('Jack: {0[Jack]:d}; Sjoerd: {0[Sjoerd]:d}; ''Dcab: {0[Dcab]:d}'.format(table))"
   ]
  }
 ],
 "metadata": {
  "kernelspec": {
   "display_name": "Python 3",
   "language": "python",
   "name": "python3"
  },
  "language_info": {
   "codemirror_mode": {
    "name": "ipython",
    "version": 3
   },
   "file_extension": ".py",
   "mimetype": "text/x-python",
   "name": "python",
   "nbconvert_exporter": "python",
   "pygments_lexer": "ipython3",
   "version": "3.6.2"
  }
 },
 "nbformat": 4,
 "nbformat_minor": 2
}
