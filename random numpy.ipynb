{
 "cells": [
  {
   "cell_type": "code",
   "execution_count": 1,
   "metadata": {},
   "outputs": [],
   "source": [
    "import numpy as np"
   ]
  },
  {
   "cell_type": "code",
   "execution_count": 75,
   "metadata": {
    "scrolled": true
   },
   "outputs": [
    {
     "data": {
      "text/plain": [
       "array([ 0.861164  ,  0.02394811,  0.03678956,  0.38151836,  0.62994522,\n",
       "        0.87723164,  0.18728555,  0.22636271,  0.6821967 ,  0.55017748])"
      ]
     },
     "execution_count": 75,
     "metadata": {},
     "output_type": "execute_result"
    }
   ],
   "source": [
    "x = np.random.random(10)\n",
    "x"
   ]
  },
  {
   "cell_type": "code",
   "execution_count": 76,
   "metadata": {},
   "outputs": [
    {
     "data": {
      "text/plain": [
       "array([1, 2, 6, 7, 3, 9, 4, 8, 0, 5])"
      ]
     },
     "execution_count": 76,
     "metadata": {},
     "output_type": "execute_result"
    }
   ],
   "source": [
    "np.argsort(x)"
   ]
  },
  {
   "cell_type": "code",
   "execution_count": 63,
   "metadata": {
    "scrolled": true
   },
   "outputs": [
    {
     "data": {
      "text/plain": [
       "0.044965388107869209"
      ]
     },
     "execution_count": 63,
     "metadata": {},
     "output_type": "execute_result"
    }
   ],
   "source": [
    "np.min(x)"
   ]
  },
  {
   "cell_type": "code",
   "execution_count": 64,
   "metadata": {
    "scrolled": true
   },
   "outputs": [
    {
     "data": {
      "text/plain": [
       "1"
      ]
     },
     "execution_count": 64,
     "metadata": {},
     "output_type": "execute_result"
    }
   ],
   "source": [
    "np.argmin(x)"
   ]
  },
  {
   "cell_type": "code",
   "execution_count": 71,
   "metadata": {
    "scrolled": false
   },
   "outputs": [
    {
     "data": {
      "text/plain": [
       "10"
      ]
     },
     "execution_count": 71,
     "metadata": {},
     "output_type": "execute_result"
    }
   ],
   "source": [
    "x.shape[0]"
   ]
  },
  {
   "cell_type": "code",
   "execution_count": null,
   "metadata": {},
   "outputs": [],
   "source": []
  },
  {
   "cell_type": "code",
   "execution_count": 72,
   "metadata": {},
   "outputs": [
    {
     "name": "stdout",
     "output_type": "stream",
     "text": [
      "1\n",
      "0.0101766678407\n",
      "[1]\n",
      "[0.010176667840737896]\n",
      "[ 0.71204352  0.98481488  0.32697528  0.09158916  0.74725533  0.29325539\n",
      "  0.61711382  0.70516534  0.67418361]\n",
      "3\n",
      "0.0915891631389\n",
      "[1, 3]\n",
      "[0.010176667840737896, 0.0915891631388841]\n",
      "[ 0.71204352  0.98481488  0.32697528  0.74725533  0.29325539  0.61711382\n",
      "  0.70516534  0.67418361]\n",
      "4\n",
      "0.293255387084\n",
      "[1, 3, 4]\n",
      "[0.010176667840737896, 0.0915891631388841, 0.29325538708392018]\n",
      "[ 0.71204352  0.98481488  0.32697528  0.74725533  0.61711382  0.70516534\n",
      "  0.67418361]\n",
      "2\n",
      "0.326975283299\n",
      "[1, 3, 4, 2]\n",
      "[0.010176667840737896, 0.0915891631388841, 0.29325538708392018, 0.3269752832994155]\n",
      "[ 0.71204352  0.98481488  0.74725533  0.61711382  0.70516534  0.67418361]\n",
      "3\n",
      "0.617113815432\n",
      "[1, 3, 4, 2, 3]\n",
      "[0.010176667840737896, 0.0915891631388841, 0.29325538708392018, 0.3269752832994155, 0.61711381543238308]\n",
      "[ 0.71204352  0.98481488  0.74725533  0.70516534  0.67418361]\n",
      "4\n",
      "0.67418361188\n",
      "[1, 3, 4, 2, 3, 4]\n",
      "[0.010176667840737896, 0.0915891631388841, 0.29325538708392018, 0.3269752832994155, 0.61711381543238308, 0.67418361187994102]\n",
      "[ 0.71204352  0.98481488  0.74725533  0.70516534]\n",
      "3\n",
      "0.705165336942\n",
      "[1, 3, 4, 2, 3, 4, 3]\n",
      "[0.010176667840737896, 0.0915891631388841, 0.29325538708392018, 0.3269752832994155, 0.61711381543238308, 0.67418361187994102, 0.70516533694157169]\n",
      "[ 0.71204352  0.98481488  0.74725533]\n",
      "0\n",
      "0.712043521159\n",
      "[1, 3, 4, 2, 3, 4, 3, 0]\n",
      "[0.010176667840737896, 0.0915891631388841, 0.29325538708392018, 0.3269752832994155, 0.61711381543238308, 0.67418361187994102, 0.70516533694157169, 0.71204352115877567]\n",
      "[ 0.98481488  0.74725533]\n",
      "1\n",
      "0.747255332593\n",
      "[1, 3, 4, 2, 3, 4, 3, 0, 1]\n",
      "[0.010176667840737896, 0.0915891631388841, 0.29325538708392018, 0.3269752832994155, 0.61711381543238308, 0.67418361187994102, 0.70516533694157169, 0.71204352115877567, 0.74725533259257793]\n",
      "[ 0.98481488]\n",
      "0\n",
      "0.984814882262\n",
      "[1, 3, 4, 2, 3, 4, 3, 0, 1, 0]\n",
      "[0.010176667840737896, 0.0915891631388841, 0.29325538708392018, 0.3269752832994155, 0.61711381543238308, 0.67418361187994102, 0.70516533694157169, 0.71204352115877567, 0.74725533259257793, 0.98481488226189162]\n",
      "[]\n"
     ]
    }
   ],
   "source": [
    "k_min_index=[]\n",
    "Ypred = []\n",
    "for j in range(x.shape[0]):\n",
    "                min_index = np.argmin(x)\n",
    "                print(min_index)\n",
    "                k_min_index.append(min_index) #get the index with smallest distance\n",
    "                Ypred.append(x[min_index])\n",
    "                print(x[min_index])\n",
    "                print(k_min_index)\n",
    "                print(Ypred)#predict the label of the nearest example\n",
    "                x=np.delete(x,min_index)\n",
    "                print(x)"
   ]
  },
  {
   "cell_type": "code",
   "execution_count": 52,
   "metadata": {},
   "outputs": [
    {
     "data": {
      "text/plain": [
       "array([ 0.8287895 ,  0.01460705,  0.54278342])"
      ]
     },
     "execution_count": 52,
     "metadata": {},
     "output_type": "execute_result"
    }
   ],
   "source": [
    "x"
   ]
  },
  {
   "cell_type": "code",
   "execution_count": 53,
   "metadata": {
    "scrolled": true
   },
   "outputs": [
    {
     "data": {
      "text/plain": [
       "array([ 0.8287895 ,  0.01460705])"
      ]
     },
     "execution_count": 53,
     "metadata": {},
     "output_type": "execute_result"
    }
   ],
   "source": [
    "np.delete(x,2)"
   ]
  },
  {
   "cell_type": "code",
   "execution_count": 25,
   "metadata": {},
   "outputs": [],
   "source": [
    "x = [ 0.54798674,  0.49126747,  0.92640559]"
   ]
  },
  {
   "cell_type": "code",
   "execution_count": 26,
   "metadata": {
    "scrolled": false
   },
   "outputs": [
    {
     "data": {
      "text/plain": [
       "1"
      ]
     },
     "execution_count": 26,
     "metadata": {},
     "output_type": "execute_result"
    }
   ],
   "source": [
    "i = np.argmin(x)\n",
    "i"
   ]
  },
  {
   "cell_type": "code",
   "execution_count": 27,
   "metadata": {},
   "outputs": [
    {
     "data": {
      "text/plain": [
       "[0.54798674, 0.49126747, 0.92640559]"
      ]
     },
     "execution_count": 27,
     "metadata": {},
     "output_type": "execute_result"
    }
   ],
   "source": [
    "x"
   ]
  },
  {
   "cell_type": "code",
   "execution_count": 28,
   "metadata": {
    "scrolled": true
   },
   "outputs": [
    {
     "data": {
      "text/plain": [
       "[0.54798674, 0.92640559]"
      ]
     },
     "execution_count": 28,
     "metadata": {},
     "output_type": "execute_result"
    }
   ],
   "source": [
    "del x[i]\n",
    "x"
   ]
  },
  {
   "cell_type": "code",
   "execution_count": 35,
   "metadata": {},
   "outputs": [
    {
     "name": "stdout",
     "output_type": "stream",
     "text": [
      "0\n",
      "1\n"
     ]
    }
   ],
   "source": [
    "for i in range(2):\n",
    "    print(i)\n",
    "    "
   ]
  },
  {
   "cell_type": "code",
   "execution_count": 41,
   "metadata": {},
   "outputs": [],
   "source": [
    "k_min_index = []"
   ]
  },
  {
   "cell_type": "code",
   "execution_count": 42,
   "metadata": {},
   "outputs": [],
   "source": [
    "k_min_index.append(i)"
   ]
  },
  {
   "cell_type": "code",
   "execution_count": 44,
   "metadata": {},
   "outputs": [
    {
     "data": {
      "text/plain": [
       "[1, 3, 17]"
      ]
     },
     "execution_count": 44,
     "metadata": {},
     "output_type": "execute_result"
    }
   ],
   "source": [
    "k_min_index.append(17)\n",
    "k_min_index"
   ]
  },
  {
   "cell_type": "code",
   "execution_count": 45,
   "metadata": {},
   "outputs": [],
   "source": [
    "Ypred = [1,3,3]"
   ]
  },
  {
   "cell_type": "code",
   "execution_count": 46,
   "metadata": {},
   "outputs": [],
   "source": [
    "from collections import Counter"
   ]
  },
  {
   "cell_type": "code",
   "execution_count": 47,
   "metadata": {},
   "outputs": [
    {
     "data": {
      "text/plain": [
       "Counter({1: 1, 3: 2})"
      ]
     },
     "execution_count": 47,
     "metadata": {},
     "output_type": "execute_result"
    }
   ],
   "source": [
    "Counter(Ypred)"
   ]
  },
  {
   "cell_type": "code",
   "execution_count": 50,
   "metadata": {},
   "outputs": [
    {
     "data": {
      "text/plain": [
       "3"
      ]
     },
     "execution_count": 50,
     "metadata": {},
     "output_type": "execute_result"
    }
   ],
   "source": [
    "Counter(Ypred).most_common(1)[0][0]"
   ]
  }
 ],
 "metadata": {
  "kernelspec": {
   "display_name": "Python 3",
   "language": "python",
   "name": "python3"
  },
  "language_info": {
   "codemirror_mode": {
    "name": "ipython",
    "version": 3
   },
   "file_extension": ".py",
   "mimetype": "text/x-python",
   "name": "python",
   "nbconvert_exporter": "python",
   "pygments_lexer": "ipython3",
   "version": "3.6.2"
  }
 },
 "nbformat": 4,
 "nbformat_minor": 2
}
